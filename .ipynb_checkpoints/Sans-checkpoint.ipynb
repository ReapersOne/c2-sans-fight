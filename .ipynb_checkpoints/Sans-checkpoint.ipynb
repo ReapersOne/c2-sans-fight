{
 "cells": [
  {
   "cell_type": "code",
   "execution_count": 1,
   "id": "3a5f49e3-de99-439b-9e93-e48621952879",
   "metadata": {},
   "outputs": [
    {
     "name": "stdout",
     "output_type": "stream",
     "text": [
      "Collecting pygame\n",
      "  Downloading pygame-2.6.1-cp312-cp312-win_amd64.whl.metadata (13 kB)\n",
      "Requirement already satisfied: numpy in c:\\users\\mmooreii\\appdata\\local\\anaconda3\\lib\\site-packages (1.26.4)\n",
      "Requirement already satisfied: tensorflow in c:\\users\\mmooreii\\appdata\\local\\anaconda3\\lib\\site-packages (2.19.0)\n",
      "Requirement already satisfied: keras in c:\\users\\mmooreii\\appdata\\local\\anaconda3\\lib\\site-packages (3.9.2)\n",
      "Requirement already satisfied: absl-py>=1.0.0 in c:\\users\\mmooreii\\appdata\\local\\anaconda3\\lib\\site-packages (from tensorflow) (2.2.2)\n",
      "Requirement already satisfied: astunparse>=1.6.0 in c:\\users\\mmooreii\\appdata\\local\\anaconda3\\lib\\site-packages (from tensorflow) (1.6.3)\n",
      "Requirement already satisfied: flatbuffers>=24.3.25 in c:\\users\\mmooreii\\appdata\\local\\anaconda3\\lib\\site-packages (from tensorflow) (25.2.10)\n",
      "Requirement already satisfied: gast!=0.5.0,!=0.5.1,!=0.5.2,>=0.2.1 in c:\\users\\mmooreii\\appdata\\local\\anaconda3\\lib\\site-packages (from tensorflow) (0.6.0)\n",
      "Requirement already satisfied: google-pasta>=0.1.1 in c:\\users\\mmooreii\\appdata\\local\\anaconda3\\lib\\site-packages (from tensorflow) (0.2.0)\n",
      "Requirement already satisfied: libclang>=13.0.0 in c:\\users\\mmooreii\\appdata\\local\\anaconda3\\lib\\site-packages (from tensorflow) (18.1.1)\n",
      "Requirement already satisfied: opt-einsum>=2.3.2 in c:\\users\\mmooreii\\appdata\\local\\anaconda3\\lib\\site-packages (from tensorflow) (3.4.0)\n",
      "Requirement already satisfied: packaging in c:\\users\\mmooreii\\appdata\\local\\anaconda3\\lib\\site-packages (from tensorflow) (24.2)\n",
      "Requirement already satisfied: protobuf!=4.21.0,!=4.21.1,!=4.21.2,!=4.21.3,!=4.21.4,!=4.21.5,<6.0.0dev,>=3.20.3 in c:\\users\\mmooreii\\appdata\\local\\anaconda3\\lib\\site-packages (from tensorflow) (5.29.4)\n",
      "Requirement already satisfied: requests<3,>=2.21.0 in c:\\users\\mmooreii\\appdata\\local\\anaconda3\\lib\\site-packages (from tensorflow) (2.32.3)\n",
      "Requirement already satisfied: setuptools in c:\\users\\mmooreii\\appdata\\local\\anaconda3\\lib\\site-packages (from tensorflow) (78.1.0)\n",
      "Requirement already satisfied: six>=1.12.0 in c:\\users\\mmooreii\\appdata\\local\\anaconda3\\lib\\site-packages (from tensorflow) (1.17.0)\n",
      "Requirement already satisfied: termcolor>=1.1.0 in c:\\users\\mmooreii\\appdata\\local\\anaconda3\\lib\\site-packages (from tensorflow) (3.0.1)\n",
      "Requirement already satisfied: typing-extensions>=3.6.6 in c:\\users\\mmooreii\\appdata\\local\\anaconda3\\lib\\site-packages (from tensorflow) (4.13.1)\n",
      "Requirement already satisfied: wrapt>=1.11.0 in c:\\users\\mmooreii\\appdata\\local\\anaconda3\\lib\\site-packages (from tensorflow) (1.17.2)\n",
      "Requirement already satisfied: grpcio<2.0,>=1.24.3 in c:\\users\\mmooreii\\appdata\\local\\anaconda3\\lib\\site-packages (from tensorflow) (1.71.0)\n",
      "Requirement already satisfied: tensorboard~=2.19.0 in c:\\users\\mmooreii\\appdata\\local\\anaconda3\\lib\\site-packages (from tensorflow) (2.19.0)\n",
      "Requirement already satisfied: h5py>=3.11.0 in c:\\users\\mmooreii\\appdata\\local\\anaconda3\\lib\\site-packages (from tensorflow) (3.13.0)\n",
      "Requirement already satisfied: ml-dtypes<1.0.0,>=0.5.1 in c:\\users\\mmooreii\\appdata\\local\\anaconda3\\lib\\site-packages (from tensorflow) (0.5.1)\n",
      "Requirement already satisfied: rich in c:\\users\\mmooreii\\appdata\\local\\anaconda3\\lib\\site-packages (from keras) (14.0.0)\n",
      "Requirement already satisfied: namex in c:\\users\\mmooreii\\appdata\\local\\anaconda3\\lib\\site-packages (from keras) (0.0.8)\n",
      "Requirement already satisfied: optree in c:\\users\\mmooreii\\appdata\\local\\anaconda3\\lib\\site-packages (from keras) (0.15.0)\n",
      "Requirement already satisfied: wheel<1.0,>=0.23.0 in c:\\users\\mmooreii\\appdata\\local\\anaconda3\\lib\\site-packages (from astunparse>=1.6.0->tensorflow) (0.45.1)\n",
      "Requirement already satisfied: charset-normalizer<4,>=2 in c:\\users\\mmooreii\\appdata\\local\\anaconda3\\lib\\site-packages (from requests<3,>=2.21.0->tensorflow) (3.4.1)\n",
      "Requirement already satisfied: idna<4,>=2.5 in c:\\users\\mmooreii\\appdata\\local\\anaconda3\\lib\\site-packages (from requests<3,>=2.21.0->tensorflow) (3.10)\n",
      "Requirement already satisfied: urllib3<3,>=1.21.1 in c:\\users\\mmooreii\\appdata\\local\\anaconda3\\lib\\site-packages (from requests<3,>=2.21.0->tensorflow) (2.3.0)\n",
      "Requirement already satisfied: certifi>=2017.4.17 in c:\\users\\mmooreii\\appdata\\local\\anaconda3\\lib\\site-packages (from requests<3,>=2.21.0->tensorflow) (2025.1.31)\n",
      "Requirement already satisfied: markdown>=2.6.8 in c:\\users\\mmooreii\\appdata\\local\\anaconda3\\lib\\site-packages (from tensorboard~=2.19.0->tensorflow) (3.7)\n",
      "Requirement already satisfied: tensorboard-data-server<0.8.0,>=0.7.0 in c:\\users\\mmooreii\\appdata\\local\\anaconda3\\lib\\site-packages (from tensorboard~=2.19.0->tensorflow) (0.7.2)\n",
      "Requirement already satisfied: werkzeug>=1.0.1 in c:\\users\\mmooreii\\appdata\\local\\anaconda3\\lib\\site-packages (from tensorboard~=2.19.0->tensorflow) (3.1.3)\n",
      "Requirement already satisfied: markdown-it-py>=2.2.0 in c:\\users\\mmooreii\\appdata\\local\\anaconda3\\lib\\site-packages (from rich->keras) (3.0.0)\n",
      "Requirement already satisfied: pygments<3.0.0,>=2.13.0 in c:\\users\\mmooreii\\appdata\\local\\anaconda3\\lib\\site-packages (from rich->keras) (2.19.1)\n",
      "Requirement already satisfied: mdurl~=0.1 in c:\\users\\mmooreii\\appdata\\local\\anaconda3\\lib\\site-packages (from markdown-it-py>=2.2.0->rich->keras) (0.1.2)\n",
      "Requirement already satisfied: MarkupSafe>=2.1.1 in c:\\users\\mmooreii\\appdata\\local\\anaconda3\\lib\\site-packages (from werkzeug>=1.0.1->tensorboard~=2.19.0->tensorflow) (3.0.2)\n",
      "Downloading pygame-2.6.1-cp312-cp312-win_amd64.whl (10.6 MB)\n",
      "   ---------------------------------------- 0.0/10.6 MB ? eta -:--:--\n",
      "   -- ------------------------------------- 0.8/10.6 MB 6.7 MB/s eta 0:00:02\n",
      "   ------- -------------------------------- 2.1/10.6 MB 6.2 MB/s eta 0:00:02\n",
      "   ---------- ----------------------------- 2.9/10.6 MB 5.6 MB/s eta 0:00:02\n",
      "   ------------- -------------------------- 3.7/10.6 MB 5.1 MB/s eta 0:00:02\n",
      "   --------------- ------------------------ 4.2/10.6 MB 4.3 MB/s eta 0:00:02\n",
      "   ---------------- ----------------------- 4.5/10.6 MB 3.9 MB/s eta 0:00:02\n",
      "   ------------------ --------------------- 5.0/10.6 MB 3.5 MB/s eta 0:00:02\n",
      "   ------------------- -------------------- 5.2/10.6 MB 3.3 MB/s eta 0:00:02\n",
      "   --------------------- ------------------ 5.8/10.6 MB 3.1 MB/s eta 0:00:02\n",
      "   ---------------------- ----------------- 6.0/10.6 MB 3.0 MB/s eta 0:00:02\n",
      "   ----------------------- ---------------- 6.3/10.6 MB 2.9 MB/s eta 0:00:02\n",
      "   ------------------------- -------------- 6.8/10.6 MB 2.7 MB/s eta 0:00:02\n",
      "   -------------------------- ------------- 7.1/10.6 MB 2.6 MB/s eta 0:00:02\n",
      "   ---------------------------- ----------- 7.6/10.6 MB 2.6 MB/s eta 0:00:02\n",
      "   ----------------------------- ---------- 7.9/10.6 MB 2.5 MB/s eta 0:00:02\n",
      "   ------------------------------ --------- 8.1/10.6 MB 2.5 MB/s eta 0:00:02\n",
      "   -------------------------------- ------- 8.7/10.6 MB 2.4 MB/s eta 0:00:01\n",
      "   --------------------------------- ------ 8.9/10.6 MB 2.4 MB/s eta 0:00:01\n",
      "   ----------------------------------- ---- 9.4/10.6 MB 2.3 MB/s eta 0:00:01\n",
      "   ------------------------------------- -- 10.0/10.6 MB 2.3 MB/s eta 0:00:01\n",
      "   -------------------------------------- - 10.2/10.6 MB 2.3 MB/s eta 0:00:01\n",
      "   ---------------------------------------- 10.6/10.6 MB 2.3 MB/s eta 0:00:00\n",
      "Installing collected packages: pygame\n",
      "Successfully installed pygame-2.6.1\n",
      "Note: you may need to restart the kernel to use updated packages.\n"
     ]
    }
   ],
   "source": [
    "pip install pygame numpy tensorflow keras"
   ]
  },
  {
   "cell_type": "code",
   "execution_count": null,
   "id": "208e30a8-9f62-4c16-afd3-8f93cd8b6a48",
   "metadata": {},
   "outputs": [],
   "source": []
  }
 ],
 "metadata": {
  "kernelspec": {
   "display_name": "Python 3 (ipykernel)",
   "language": "python",
   "name": "python3"
  },
  "language_info": {
   "codemirror_mode": {
    "name": "ipython",
    "version": 3
   },
   "file_extension": ".py",
   "mimetype": "text/x-python",
   "name": "python",
   "nbconvert_exporter": "python",
   "pygments_lexer": "ipython3",
   "version": "3.12.7"
  }
 },
 "nbformat": 4,
 "nbformat_minor": 5
}
